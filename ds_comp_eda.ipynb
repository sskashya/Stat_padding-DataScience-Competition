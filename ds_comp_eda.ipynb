{
 "cells": [
  {
   "cell_type": "code",
   "execution_count": 2,
   "metadata": {},
   "outputs": [],
   "source": [
    "# importing libraries here to better keep track of them\n",
    "\n",
    "import pandas as pd\n",
    "import numpy as np\n",
    "import matplotlib.pyplot as plt"
   ]
  },
  {
   "cell_type": "code",
   "execution_count": 9,
   "metadata": {},
   "outputs": [],
   "source": [
    "# Reading csv files into memory\n",
    "\n",
    "injury_history_raw = pd.read_csv(\"data/injury_history(injury_history).csv\", sep = \",\", encoding = 'ISO-8859-1')\n",
    "muscle_imbalance_raw = pd.read_csv(\"data/injury_history(muscle_imbalance_data).csv\", sep = \",\", encoding = 'ISO-8859-1')\n",
    "player_sessions_raw = pd.read_csv(\"data/injury_history(player_sessions).csv\", sep = \",\", encoding = 'ISO-8859-1')"
   ]
  },
  {
   "cell_type": "code",
   "execution_count": 10,
   "metadata": {},
   "outputs": [
    {
     "name": "stdout",
     "output_type": "stream",
     "text": [
      "Raw Injury Data: \n",
      "    Player.ID             Name  Group.Id    Injury Type   Body Part   Side  \\\n",
      "0        101  Jordan Matthews       201  Muscle Strain  Quadriceps  Right   \n",
      "1        101  Jordan Matthews       201     Tendonitis       Wrist   Left   \n",
      "2        101  Jordan Matthews       201     Tendonitis    Shoulder  Right   \n",
      "3        103   Malik Robinson       203         Strain       Groin  Right   \n",
      "4        103   Malik Robinson       203       Fracture       Wrist   Left   \n",
      "\n",
      "  Injury Date Severity  Recovery Time (days)  \\\n",
      "0   12/5/2023  Grade 2                    51   \n",
      "1  10/25/2023      NaN                    11   \n",
      "2   7/22/2023      NaN                    12   \n",
      "3   6/28/2023  Grade 1                    20   \n",
      "4   2/14/2023      NaN                    68   \n",
      "\n",
      "                                    Additional Notes  \n",
      "0  Grade 2 quadriceps strain with partial tearing...  \n",
      "1  De Quervain's tenosynovitis. Swelling and pain...  \n",
      "2  Rotator cuff tendonitis due to overuse. Anti-i...  \n",
      "3  Grade 1 groin strain, characterized by mild ov...  \n",
      "4  Distal radius fracture. Cast applied. Recovery...   \n",
      "\n",
      "Raw Muscle Imbalance Data: \n",
      "    Player.ID  Session ID    Player Name Date Recorded  \\\n",
      "0        112         101  Anthony Lopez      1/1/2023   \n",
      "1        112         102  Anthony Lopez      2/1/2023   \n",
      "2        112         103  Anthony Lopez      3/1/2023   \n",
      "3        112         104  Anthony Lopez      4/1/2023   \n",
      "4        112         105  Anthony Lopez      5/1/2023   \n",
      "\n",
      "   Hamstring To Quad Ratio  Quad Imbalance Percent  \\\n",
      "0                 0.808741              -10.149294   \n",
      "1                 0.814355              -10.105784   \n",
      "2                 0.887331              -10.027546   \n",
      "3                 0.929176              -10.137407   \n",
      "4                 0.866234               -9.958386   \n",
      "\n",
      "   HamstringImbalance Percent  Calf Imbalance Percent  Groin Imbalance Percent  \n",
      "0                   -8.208145              -10.176416               -10.258755  \n",
      "1                   -8.229693              -10.106144               -10.063777  \n",
      "2                   -8.897757              -10.257486                -9.990676  \n",
      "3                   -9.419432              -10.220899               -10.179258  \n",
      "4                   -8.626291              -10.412659               -10.208611   \n",
      "\n",
      "Raw Player Session Data: \n",
      "             Name  Player.ID  Group.Id Group.name  League.ID  Session.ID  \\\n",
      "0  Anthony Lopez        112       212    Group 1        301        1001   \n",
      "1  Anthony Lopez        112       212    Group 1        301        1002   \n",
      "2  Anthony Lopez        112       212    Group 1        301        1003   \n",
      "3  Anthony Lopez        112       212    Group 1        301        1004   \n",
      "4  Anthony Lopez        112       212    Group 1        301        1005   \n",
      "\n",
      "  Session_Date Position  Distance..mi.  Distance...min..mi.  ...  \\\n",
      "0     1/1/2023   Center           4.58                 0.12  ...   \n",
      "1     1/3/2023   Center           1.18                 0.11  ...   \n",
      "2     1/4/2023   Center           5.59                 0.14  ...   \n",
      "3     1/6/2023   Center           3.22                 0.09  ...   \n",
      "4     1/7/2023   Center           2.19                 0.10  ...   \n",
      "\n",
      "   Heart.Rate..min....bpm.  Heart.Rate..max....bpm.  \\\n",
      "0                       74                      198   \n",
      "1                       62                      179   \n",
      "2                       78                      172   \n",
      "3                       64                      186   \n",
      "4                       62                      146   \n",
      "\n",
      "   Human.Core.Temperature..?ò....F.  Human.Core.Temperature..max.....F.  \\\n",
      "0                             99.47                              101.24   \n",
      "1                             99.56                               99.33   \n",
      "2                            100.06                              102.31   \n",
      "3                            100.45                              101.10   \n",
      "4                             98.73                              100.91   \n",
      "\n",
      "   TRIMP  Heart.Rate.Recoveries  Jump.Height..max....ft.  \\\n",
      "0    261                      5                     2.31   \n",
      "1    270                      6                     2.44   \n",
      "2    149                      4                     3.04   \n",
      "3    180                     10                     3.17   \n",
      "4    152                      4                     1.28   \n",
      "\n",
      "   Changes.of.Orientation  Exertions  Disk.Usage....  \n",
      "0                     229        307           58.56  \n",
      "1                     427        180           44.93  \n",
      "2                     383        440           15.32  \n",
      "3                     462        450           21.46  \n",
      "4                     118        416           20.51  \n",
      "\n",
      "[5 rows x 30 columns] \n",
      "\n"
     ]
    }
   ],
   "source": [
    "print(f\"Raw Injury Data: \\n {injury_history_raw.head()} \\n\")\n",
    "print(f\"Raw Muscle Imbalance Data: \\n {muscle_imbalance_raw.head()} \\n\")\n",
    "print(f\"Raw Player Session Data: \\n {player_sessions_raw.head()} \\n\")"
   ]
  },
  {
   "cell_type": "code",
   "execution_count": 12,
   "metadata": {},
   "outputs": [
    {
     "name": "stdout",
     "output_type": "stream",
     "text": [
      "Columns present in injury data: \n",
      " Index(['Player.ID', 'Name', 'Group.Id', 'Injury Type', 'Body Part', 'Side',\n",
      "       'Injury Date', 'Severity', 'Recovery Time (days)', 'Additional Notes'],\n",
      "      dtype='object') \n",
      "\n",
      "Columns present in muscle imbalance data: \n",
      " Index(['Player.ID', 'Session ID', 'Player Name', 'Date Recorded',\n",
      "       'Hamstring To Quad Ratio', 'Quad Imbalance Percent',\n",
      "       'HamstringImbalance Percent', 'Calf Imbalance Percent',\n",
      "       'Groin Imbalance Percent'],\n",
      "      dtype='object') \n",
      "\n",
      "Columns present in player session data: \n",
      " Index(['Name', 'Player.ID', 'Group.Id', 'Group.name', 'League.ID',\n",
      "       'Session.ID', 'Session_Date', 'Position', 'Distance..mi.',\n",
      "       'Distance...min..mi.', 'Duration..s.', 'Steps', 'Speed....of.max......',\n",
      "       'Speed..max....mph.', 'Speed..?ò...mph.', 'Time..s.',\n",
      "       'Accumulated.Acceleration.Load', 'Anaerobic.Activity..distance...mi.',\n",
      "       'Jump.Load..J.', 'Heart.Rate..?ò...bpm.', 'Heart.Rate..min....bpm.',\n",
      "       'Heart.Rate..max....bpm.', 'Human.Core.Temperature..?ò....F.',\n",
      "       'Human.Core.Temperature..max.....F.', 'TRIMP', 'Heart.Rate.Recoveries',\n",
      "       'Jump.Height..max....ft.', 'Changes.of.Orientation', 'Exertions',\n",
      "       'Disk.Usage....'],\n",
      "      dtype='object') \n",
      "\n"
     ]
    }
   ],
   "source": [
    "print(f'Columns present in injury data: \\n {injury_history_raw.columns} \\n')\n",
    "print(f'Columns present in muscle imbalance data: \\n {muscle_imbalance_raw.columns} \\n')\n",
    "print(f'Columns present in player session data: \\n {player_sessions_raw.columns} \\n')"
   ]
  }
 ],
 "metadata": {
  "kernelspec": {
   "display_name": "Python 3",
   "language": "python",
   "name": "python3"
  },
  "language_info": {
   "codemirror_mode": {
    "name": "ipython",
    "version": 3
   },
   "file_extension": ".py",
   "mimetype": "text/x-python",
   "name": "python",
   "nbconvert_exporter": "python",
   "pygments_lexer": "ipython3",
   "version": "3.12.1"
  }
 },
 "nbformat": 4,
 "nbformat_minor": 2
}
